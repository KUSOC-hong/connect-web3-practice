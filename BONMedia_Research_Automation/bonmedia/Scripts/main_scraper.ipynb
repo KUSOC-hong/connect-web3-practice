{
 "cells": [
  {
   "attachments": {},
   "cell_type": "markdown",
   "metadata": {},
   "source": [
    "# Using bs4 & newspaper module"
   ]
  },
  {
   "cell_type": "code",
   "execution_count": null,
   "metadata": {},
   "outputs": [],
   "source": [
    "# # Import requests, BeautifulSoup and newspaper\n",
    "# import requests\n",
    "# from bs4 import BeautifulSoup\n",
    "# from newspaper import Article\n",
    "\n",
    "# data = requests.get('https://cryptonews.com/news/')\n",
    "\n",
    "# soup = BeautifulSoup(data.text, 'html.parser')\n",
    "# # print(soup)\n",
    "# articles = soup.select('body > main > section:nth-child(2) > div > div > div.col-12.col-lg-9 > section > article:nth-child(1) > div > div.col-12.col-md-7.column-45__right.d-flex.flex-column.justify-content-center > a')\n",
    "# print(articles)\n",
    "\n",
    "# # url = 'https://fortune.com/2023/02/12/goldman-sachs-ceo-david-solomon-tells-partners-regrets-layoffs-not-sooner/'\n",
    "# url = 'https://techcrunch.com/2023/02/13/uber-lyft-earnings-self-driving-truck-roadblock-redwood-materials-deal/'\n",
    "# article = Article(url, language='en')\n",
    "# article.download()\n",
    "# article.html\n",
    "# article.parse()"
   ]
  },
  {
   "cell_type": "code",
   "execution_count": null,
   "metadata": {},
   "outputs": [],
   "source": [
    "# import requests\n",
    "# from bs4 import BeautifulSoup\n",
    "# import newspaper\n",
    "# cryptonews_paper = newspaper.build('https://cryptonews.com', language='en')\n",
    "# for article in cryptonews_paper.articles:\n",
    "#     print(article.url)"
   ]
  },
  {
   "cell_type": "code",
   "execution_count": null,
   "metadata": {},
   "outputs": [],
   "source": [
    "# for category in cryptonews_paper.category_urls():\n",
    "#     print(category)"
   ]
  },
  {
   "cell_type": "code",
   "execution_count": null,
   "metadata": {},
   "outputs": [],
   "source": [
    "# cryptonews_article = cryptonews_paper.articles[0]\n",
    "# cryptonews_article.download()\n",
    "# cryptonews_article.parse()\n",
    "# cryptonews_article.nlp()"
   ]
  },
  {
   "attachments": {},
   "cell_type": "markdown",
   "metadata": {},
   "source": [
    "# Using newsapi"
   ]
  },
  {
   "cell_type": "code",
   "execution_count": 1,
   "metadata": {},
   "outputs": [],
   "source": [
    "import requests\n",
    "import pprint\n",
    "import json\n",
    "from newsapi import NewsApiClient\n",
    "import pandas as pd\n",
    "from pandas import json_normalize"
   ]
  },
  {
   "attachments": {},
   "cell_type": "markdown",
   "metadata": {},
   "source": [
    "# API 키 노출 주의!!!!!!!!"
   ]
  },
  {
   "cell_type": "code",
   "execution_count": null,
   "metadata": {},
   "outputs": [],
   "source": [
    "# Request parameters Reference -> https://newsapi.org/docs/endpoints/top-headlines\n",
    "url = ('https://newsapi.org/v2/top-headlines?q=crypto&pageSize=50&apiKey=96e09b4c851e4029b9f687520e70bb8a')\n",
    "response = requests.get(url)\n",
    "\n",
    "# api 호출 후 json 파일 생성\n",
    "with open('result.json','w') as outfile:\n",
    "    json.dump(response.json(), outfile)"
   ]
  },
  {
   "cell_type": "code",
   "execution_count": null,
   "metadata": {},
   "outputs": [],
   "source": [
    "# json 보기 좋게 indent해서 출력 \n",
    "pprint.pprint(response.json())"
   ]
  },
  {
   "attachments": {},
   "cell_type": "markdown",
   "metadata": {},
   "source": [
    "# Python client library Usage(without having to make HTTP requests directly)"
   ]
  },
  {
   "cell_type": "code",
   "execution_count": null,
   "metadata": {},
   "outputs": [],
   "source": [
    "# newsapi = NewsApiClient(api_key='96e09b4c851e4029b9f687520e70bb8a')\n",
    "# all_articles = newsapi.get_everything(q='bitcoin',\n",
    "#                                       sources='bbc-news,the-verge',\n",
    "#                                       domains='bbc.co.uk,techcrunch.com',\n",
    "#                                       from_param='2023-02-14',\n",
    "#                                       to='2023-02-15',\n",
    "#                                       language='en',\n",
    "#                                       sort_by='relevancy',\n",
    "#                                       page=2)"
   ]
  },
  {
   "cell_type": "code",
   "execution_count": null,
   "metadata": {},
   "outputs": [],
   "source": [
    "# secret = '70fdb9ba81ba40b6bda148e672898bd9'\n",
    "\n",
    "# url = 'https://newsapi.org/v2/everything?'\n",
    "\n",
    "# parameters = {\n",
    "#     'q': 'ethereum', # query phrase\n",
    "#     'pageSize': 20,  # maximum is 100\n",
    "#     'apiKey': secret # your own API key\n",
    "\n",
    "# }\n",
    "\n",
    "# # Make the request\n",
    "# response = requests.get(url, params=parameters)\n",
    "\n",
    "# response_json = response.json()\n",
    "# # pprint.pprint(response_json)"
   ]
  },
  {
   "cell_type": "code",
   "execution_count": null,
   "metadata": {},
   "outputs": [],
   "source": [
    "secret = '70fdb9ba81ba40b6bda148e672898bd9'\n",
    "\n",
    "url = 'https://newsapi.org/v2/top-headlines?'\n",
    "\n",
    "parameters = {\n",
    "    'q': 'ethereum', # query phrase\n",
    "    'pageSize': 20,  # maximum is 100,\n",
    "    'category':'technology',\n",
    "    'apiKey': secret # your own API key\n",
    "\n",
    "}\n",
    "\n",
    "# Make the request\n",
    "response = requests.get(url, params=parameters)\n",
    "\n",
    "response_json = response.json()\n",
    "# pprint.pprint(response_json)"
   ]
  },
  {
   "attachments": {},
   "cell_type": "markdown",
   "metadata": {},
   "source": [
    "# Pandas 활용해 테이블 형태로 출력"
   ]
  },
  {
   "cell_type": "code",
   "execution_count": 13,
   "metadata": {},
   "outputs": [
    {
     "data": {
      "text/html": [
       "<div>\n",
       "<style scoped>\n",
       "    .dataframe tbody tr th:only-of-type {\n",
       "        vertical-align: middle;\n",
       "    }\n",
       "\n",
       "    .dataframe tbody tr th {\n",
       "        vertical-align: top;\n",
       "    }\n",
       "\n",
       "    .dataframe thead th {\n",
       "        text-align: right;\n",
       "    }\n",
       "</style>\n",
       "<table border=\"1\" class=\"dataframe\">\n",
       "  <thead>\n",
       "    <tr style=\"text-align: right;\">\n",
       "      <th></th>\n",
       "    </tr>\n",
       "  </thead>\n",
       "  <tbody>\n",
       "  </tbody>\n",
       "</table>\n",
       "</div>"
      ],
      "text/plain": [
       "Empty DataFrame\n",
       "Columns: []\n",
       "Index: []"
      ]
     },
     "execution_count": 13,
     "metadata": {},
     "output_type": "execute_result"
    }
   ],
   "source": [
    "jsonArticles = response_json['articles']\n",
    "jsArticles = json_normalize(jsonArticles)\n",
    "jsArticles"
   ]
  }
 ],
 "metadata": {
  "kernelspec": {
   "display_name": "bonmedia",
   "language": "python",
   "name": "python3"
  },
  "language_info": {
   "codemirror_mode": {
    "name": "ipython",
    "version": 3
   },
   "file_extension": ".py",
   "mimetype": "text/x-python",
   "name": "python",
   "nbconvert_exporter": "python",
   "pygments_lexer": "ipython3",
   "version": "3.11.1"
  },
  "orig_nbformat": 4,
  "vscode": {
   "interpreter": {
    "hash": "ca4dc9eb9b0db481d115c200513c78263131000ce8c64872b4e1220373aa860c"
   }
  }
 },
 "nbformat": 4,
 "nbformat_minor": 2
}
